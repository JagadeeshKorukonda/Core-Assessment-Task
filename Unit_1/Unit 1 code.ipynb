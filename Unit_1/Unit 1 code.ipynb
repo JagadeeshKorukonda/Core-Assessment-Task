{
  "nbformat": 4,
  "nbformat_minor": 0,
  "metadata": {
    "colab": {
      "provenance": []
    },
    "kernelspec": {
      "name": "python3",
      "display_name": "Python 3"
    },
    "language_info": {
      "name": "python"
    }
  },
  "cells": [
    {
      "cell_type": "code",
      "execution_count": 1,
      "metadata": {
        "colab": {
          "base_uri": "https://localhost:8080/"
        },
        "id": "Jl3fGIoGgCFb",
        "outputId": "364cb2b4-d0ba-4bd0-f382-a07f7c7acd19"
      },
      "outputs": [
        {
          "output_type": "stream",
          "name": "stdout",
          "text": [
            "Enter your first name: Jagadeesh\n",
            "Enter your last name: Korukonda\n",
            "Jagadeesh Korukonda\n"
          ]
        }
      ],
      "source": [
        "# GradeEstimator_1714991.py\n",
        "# This script collects the user's first and last name, then prints them in a formatted output.\n",
        "\n",
        "# Ask the user for their first name.\n",
        "# Prompting the user and storing the input in the variable `first_name`.\n",
        "first_name = input(\"Enter your first name: \")\n",
        "\n",
        "# Ask the user for their last name.\n",
        "# Prompting the user and storing the input in the variable `last_name`.\n",
        "last_name = input(\"Enter your last name: \")\n",
        "\n",
        "# Print the full name by combining first and last names.\n",
        "# Using formatted string for clear output.\n",
        "print(f\"{first_name} {last_name}\")\n"
      ]
    }
  ]
}